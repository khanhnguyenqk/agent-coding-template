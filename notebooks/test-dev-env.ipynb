{
 "cells": [
  {
   "cell_type": "code",
   "execution_count": 1,
   "id": "436ab64c-b145-4a39-94fb-4d8c57902945",
   "metadata": {},
   "outputs": [],
   "source": [
    "from dotenv import load_dotenv\n",
    "\n",
    "load_dotenv()\n",
    "\n",
    "import os\n",
    "\n",
    "api_key = os.getenv(\"ANTHROPIC_API_KEY\")\n",
    "\n",
    "if not api_key:\n",
    "    raise ValueError(\"Anthropic API key not found\")\n"
   ]
  },
  {
   "cell_type": "code",
   "execution_count": 2,
   "id": "09893430",
   "metadata": {},
   "outputs": [
    {
     "name": "stdout",
     "output_type": "stream",
     "text": [
      "{'agent': {'messages': [AIMessage(content=[{'text': \"Hi Khanh! Nice to meet you! Since you've mentioned you live in San Jose, I can help you find some current information about your city. Let me search for some recent news or developments in San Jose.\", 'type': 'text'}, {'id': 'toolu_01XV8cuuq1CQyZP297GKajsD', 'input': {'query': 'San Jose California recent news and developments'}, 'name': 'tavily_search_results_json', 'type': 'tool_use'}], additional_kwargs={}, response_metadata={'id': 'msg_019v33tqJrc9vVnRCEpXwPD4', 'model': 'claude-3-5-sonnet-20241022', 'stop_reason': 'tool_use', 'stop_sequence': None, 'usage': {'cache_creation_input_tokens': 0, 'cache_read_input_tokens': 0, 'input_tokens': 429, 'output_tokens': 111}}, id='run-def6e731-e6ca-4e83-8b51-5a7e184f0373-0', tool_calls=[{'name': 'tavily_search_results_json', 'args': {'query': 'San Jose California recent news and developments'}, 'id': 'toolu_01XV8cuuq1CQyZP297GKajsD', 'type': 'tool_call'}], usage_metadata={'input_tokens': 429, 'output_tokens': 111, 'total_tokens': 540, 'input_token_details': {'cache_read': 0, 'cache_creation': 0}})]}}\n",
      "----\n",
      "{'tools': {'messages': [ToolMessage(content='[{\"url\": \"https://www.newsnow.com/us/US/States/California/San+Jose\", \"content\": \"Our NewsNow feed delivers real-time updates on San Jose\\'s dynamic landscape, from city council decisions to tech industry developments and community events.\"}, {\"url\": \"https://www.sanjoseca.gov/news-stories/news\", \"content\": \"NEWS RELEASE: New Sports and Special Events Director to Position San José as the City to “Fly, Stay, and Play” in 2026 and Beyond. 01/22/2025 3:00 PM. Public\"}]', name='tavily_search_results_json', id='59b241d2-21b0-422c-a3c5-2d314843c16a', tool_call_id='toolu_01XV8cuuq1CQyZP297GKajsD', artifact={'query': 'San Jose California recent news and developments', 'follow_up_questions': None, 'answer': None, 'images': [], 'results': [{'url': 'https://www.newsnow.com/us/US/States/California/San+Jose', 'title': 'San Jose News | Latest News - NewsNow', 'content': \"Our NewsNow feed delivers real-time updates on San Jose's dynamic landscape, from city council decisions to tech industry developments and community events.\", 'score': 0.73596483, 'raw_content': None}, {'url': 'https://www.sanjoseca.gov/news-stories/news', 'title': 'News | City of San José', 'content': 'NEWS RELEASE: New Sports and Special Events Director to Position San José as the City to “Fly, Stay, and Play” in 2026 and Beyond. 01/22/2025 3:00 PM. Public', 'score': 0.7016523, 'raw_content': None}], 'response_time': 1.94})]}}\n",
      "----\n",
      "{'agent': {'messages': [AIMessage(content='Based on recent information, San Jose is actively working on some exciting developments! I notice that the city has recently appointed a new Sports and Special Events Director, with plans to position San Jose as a destination city with the slogan \"Fly, Stay, and Play\" looking ahead to 2026 and beyond.\\n\\nSan Jose, as you probably know, is the largest city in Northern California and is often called the \"Capital of Silicon Valley\" due to its strong tech industry presence. The city is known for its innovation, diversity, and beautiful weather.\\n\\nIs there anything specific about San Jose that you\\'d like to know more about? I\\'d be happy to search for information about:\\n- Local events and activities\\n- Specific neighborhoods\\n- City developments\\n- Tech industry news\\n- Restaurant scenes\\n- Or any other aspect of life in San Jose that interests you!', additional_kwargs={}, response_metadata={'id': 'msg_01SrwfsoRbGd2UE868VE1Yyd', 'model': 'claude-3-5-sonnet-20241022', 'stop_reason': 'end_turn', 'stop_sequence': None, 'usage': {'cache_creation_input_tokens': 0, 'cache_read_input_tokens': 0, 'input_tokens': 688, 'output_tokens': 183}}, id='run-dd0c56b3-5a59-42dc-80e6-e310dc8454ff-0', usage_metadata={'input_tokens': 688, 'output_tokens': 183, 'total_tokens': 871, 'input_token_details': {'cache_read': 0, 'cache_creation': 0}})]}}\n",
      "----\n",
      "{'agent': {'messages': [AIMessage(content=[{'text': 'Let me search for current weather information in San Jose.', 'type': 'text'}, {'id': 'toolu_01KnedJAmgQ6moWKYRnW9U8F', 'input': {'query': 'San Jose California current weather conditions today'}, 'name': 'tavily_search_results_json', 'type': 'tool_use'}], additional_kwargs={}, response_metadata={'id': 'msg_01Jm12kNwKhXRmjxrtZYC8jz', 'model': 'claude-3-5-sonnet-20241022', 'stop_reason': 'tool_use', 'stop_sequence': None, 'usage': {'cache_creation_input_tokens': 0, 'cache_read_input_tokens': 0, 'input_tokens': 882, 'output_tokens': 76}}, id='run-366fcdf8-af8d-41fc-bb35-495c009f3a4d-0', tool_calls=[{'name': 'tavily_search_results_json', 'args': {'query': 'San Jose California current weather conditions today'}, 'id': 'toolu_01KnedJAmgQ6moWKYRnW9U8F', 'type': 'tool_call'}], usage_metadata={'input_tokens': 882, 'output_tokens': 76, 'total_tokens': 958, 'input_token_details': {'cache_read': 0, 'cache_creation': 0}})]}}\n",
      "----\n",
      "{'tools': {'messages': [ToolMessage(content='[{\"url\": \"https://www.weatherapi.com/\", \"content\": \"{\\'location\\': {\\'name\\': \\'San Jose\\', \\'region\\': \\'California\\', \\'country\\': \\'United States of America\\', \\'lat\\': 37.3394, \\'lon\\': -121.8939, \\'tz_id\\': \\'America/Los_Angeles\\', \\'localtime_epoch\\': 1739659064, \\'localtime\\': \\'2025-02-15 14:37\\'}, \\'current\\': {\\'last_updated_epoch\\': 1739658600, \\'last_updated\\': \\'2025-02-15 14:30\\', \\'temp_c\\': 14.4, \\'temp_f\\': 57.9, \\'is_day\\': 1, \\'condition\\': {\\'text\\': \\'Partly cloudy\\', \\'icon\\': \\'//cdn.weatherapi.com/weather/64x64/day/116.png\\', \\'code\\': 1003}, \\'wind_mph\\': 4.9, \\'wind_kph\\': 7.9, \\'wind_degree\\': 324, \\'wind_dir\\': \\'NW\\', \\'pressure_mb\\': 1027.0, \\'pressure_in\\': 30.33, \\'precip_mm\\': 0.0, \\'precip_in\\': 0.0, \\'humidity\\': 55, \\'cloud\\': 75, \\'feelslike_c\\': 14.2, \\'feelslike_f\\': 57.5, \\'windchill_c\\': 12.5, \\'windchill_f\\': 54.5, \\'heatindex_c\\': 12.8, \\'heatindex_f\\': 55.1, \\'dewpoint_c\\': 5.9, \\'dewpoint_f\\': 42.7, \\'vis_km\\': 16.0, \\'vis_miles\\': 9.0, \\'uv\\': 2.1, \\'gust_mph\\': 5.7, \\'gust_kph\\': 9.1}}\"}, {\"url\": \"https://world-weather.info/forecast/usa/san_jose/february-2025/\", \"content\": \"Weather in San Jose in February 2025 (California) - Detailed Weather Forecast for a Month Weather World Weather in San Jose Weather in San Jose in February 2025 San Jose Weather Forecast for February 2025, is based on previous years\\' statistical data. +63°+48° +61°+50° +61°+48° +63°+50° +63°+48° +63°+48° +64°+48° +64°+48° +64°+48° +64°+48° +64°+46° +66°+46° +66°+48° +63°+50° +64°+50° +66°+48° +63°+50° +63°+48° +63°+48° +63°+48° +63°+48° +61°+48° +63°+45° +64°+45° +64°+46° +63°+48° +64°+48° +64°+46° Extended weather forecast in San Jose HourlyWeek10-Day14-Day30-DayYear Weather in large and nearby cities Weather in Washington, D.C.+36° Sacramento+45° Redwood City+46° San Leandro+46° San Mateo+46° San Ramon+43° Santa Clara+43° Santa Cruz+43° South San Francisco+48° Sunnyvale+46° Pleasanton+45° Palo Alto+45° Castro Valley+46° Cupertino+46° Fremont+45° Hayward+46° Asco+45° Twin Lakes+43° world\\'s temperature today day day Temperature units\"}]', name='tavily_search_results_json', id='360aff1c-d62d-4478-af78-34755e65041a', tool_call_id='toolu_01KnedJAmgQ6moWKYRnW9U8F', artifact={'query': 'San Jose California current weather conditions today', 'follow_up_questions': None, 'answer': None, 'images': [], 'results': [{'title': 'Weather in San Jose, California', 'url': 'https://www.weatherapi.com/', 'content': \"{'location': {'name': 'San Jose', 'region': 'California', 'country': 'United States of America', 'lat': 37.3394, 'lon': -121.8939, 'tz_id': 'America/Los_Angeles', 'localtime_epoch': 1739659064, 'localtime': '2025-02-15 14:37'}, 'current': {'last_updated_epoch': 1739658600, 'last_updated': '2025-02-15 14:30', 'temp_c': 14.4, 'temp_f': 57.9, 'is_day': 1, 'condition': {'text': 'Partly cloudy', 'icon': '//cdn.weatherapi.com/weather/64x64/day/116.png', 'code': 1003}, 'wind_mph': 4.9, 'wind_kph': 7.9, 'wind_degree': 324, 'wind_dir': 'NW', 'pressure_mb': 1027.0, 'pressure_in': 30.33, 'precip_mm': 0.0, 'precip_in': 0.0, 'humidity': 55, 'cloud': 75, 'feelslike_c': 14.2, 'feelslike_f': 57.5, 'windchill_c': 12.5, 'windchill_f': 54.5, 'heatindex_c': 12.8, 'heatindex_f': 55.1, 'dewpoint_c': 5.9, 'dewpoint_f': 42.7, 'vis_km': 16.0, 'vis_miles': 9.0, 'uv': 2.1, 'gust_mph': 5.7, 'gust_kph': 9.1}}\", 'score': 0.933271, 'raw_content': None}, {'url': 'https://world-weather.info/forecast/usa/san_jose/february-2025/', 'title': 'Weather in San Jose in February 2025 (California)', 'content': \"Weather in San Jose in February 2025 (California) - Detailed Weather Forecast for a Month Weather World Weather in San Jose Weather in San Jose in February 2025 San Jose Weather Forecast for February 2025, is based on previous years' statistical data. +63°+48° +61°+50° +61°+48° +63°+50° +63°+48° +63°+48° +64°+48° +64°+48° +64°+48° +64°+48° +64°+46° +66°+46° +66°+48° +63°+50° +64°+50° +66°+48° +63°+50° +63°+48° +63°+48° +63°+48° +63°+48° +61°+48° +63°+45° +64°+45° +64°+46° +63°+48° +64°+48° +64°+46° Extended weather forecast in San Jose HourlyWeek10-Day14-Day30-DayYear Weather in large and nearby cities Weather in Washington, D.C.+36° Sacramento+45° Redwood City+46° San Leandro+46° San Mateo+46° San Ramon+43° Santa Clara+43° Santa Cruz+43° South San Francisco+48° Sunnyvale+46° Pleasanton+45° Palo Alto+45° Castro Valley+46° Cupertino+46° Fremont+45° Hayward+46° Asco+45° Twin Lakes+43° world's temperature today day day Temperature units\", 'score': 0.9071234, 'raw_content': None}], 'response_time': 2.83})]}}\n",
      "----\n",
      "{'agent': {'messages': [AIMessage(content=\"Based on the current weather information for San Jose:\\n- Temperature: 58°F (14.4°C)\\n- Conditions: Partly cloudy\\n- Humidity: 55%\\n- Wind: 4.9 mph from the Northwest\\n- Visibility: 9 miles\\n\\nIt's a mild day with partly cloudy skies. The temperature feels like 57.5°F, and there's no precipitation expected at the moment. It's a typical day for San Jose, which generally enjoys a Mediterranean climate with mild temperatures year-round.\\n\\nWould you like to know about the weather forecast for the coming days or any other specific weather-related information for San Jose?\", additional_kwargs={}, response_metadata={'id': 'msg_012Aj64SoZd2QUawG6xRDo2R', 'model': 'claude-3-5-sonnet-20241022', 'stop_reason': 'end_turn', 'stop_sequence': None, 'usage': {'cache_creation_input_tokens': 0, 'cache_read_input_tokens': 0, 'input_tokens': 1867, 'output_tokens': 150}}, id='run-82e0b2b5-7b18-478f-b039-13c75cf0e351-0', usage_metadata={'input_tokens': 1867, 'output_tokens': 150, 'total_tokens': 2017, 'input_token_details': {'cache_read': 0, 'cache_creation': 0}})]}}\n",
      "----\n"
     ]
    }
   ],
   "source": [
    "# Import relevant functionality\n",
    "from langchain_anthropic import ChatAnthropic\n",
    "from langchain_community.tools.tavily_search import TavilySearchResults\n",
    "from langchain_core.messages import HumanMessage\n",
    "from langgraph.checkpoint.memory import MemorySaver\n",
    "from langgraph.prebuilt import create_react_agent\n",
    "\n",
    "# Create the agent\n",
    "memory = MemorySaver()\n",
    "model = ChatAnthropic(model_name=\"claude-3-5-sonnet-20241022\")\n",
    "search = TavilySearchResults(max_results=2)\n",
    "tools = [search]\n",
    "agent_executor = create_react_agent(model, tools, checkpointer=memory)\n",
    "\n",
    "# Use the agent\n",
    "config = {\"configurable\": {\"thread_id\": \"abc123\"}}\n",
    "for chunk in agent_executor.stream(\n",
    "    {\"messages\": [HumanMessage(content=\"hi im Khanh! and i live in San Jose\")]}, config\n",
    "):\n",
    "    print(chunk)\n",
    "    print(\"----\")\n",
    "\n",
    "for chunk in agent_executor.stream(\n",
    "    {\"messages\": [HumanMessage(content=\"whats the weather where I live?\")]}, config\n",
    "):\n",
    "    print(chunk)\n",
    "    print(\"----\")"
   ]
  }
 ],
 "metadata": {
  "kernelspec": {
   "display_name": "agent-coding-template",
   "language": "python",
   "name": "python3"
  },
  "language_info": {
   "codemirror_mode": {
    "name": "ipython",
    "version": 3
   },
   "file_extension": ".py",
   "mimetype": "text/x-python",
   "name": "python",
   "nbconvert_exporter": "python",
   "pygments_lexer": "ipython3",
   "version": "3.12.6"
  }
 },
 "nbformat": 4,
 "nbformat_minor": 5
}
